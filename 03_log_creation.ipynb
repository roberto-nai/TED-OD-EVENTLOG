{
 "cells": [
  {
   "cell_type": "code",
   "execution_count": 29,
   "metadata": {},
   "outputs": [],
   "source": [
    "# 03_log_creation\n",
    "# Transforms data into an event log\n",
    "# Events\n",
    "# ID_NOTICE_CN -> case-id\n",
    "# DT_DISPATCH (date) -> PUBLICATION\n",
    "# DT_APPLICATIONS (date) -> PARTICIPATION\n",
    "# DT_AWARD (date) -> AWARD\n",
    "# CONTRACT_START (date) -> CONTRACT-START\n",
    "# CONTRACT_COMPLETION (date) -> CONTRACT-END"
   ]
  },
  {
   "cell_type": "code",
   "execution_count": 30,
   "metadata": {},
   "outputs": [],
   "source": [
    "# Force to reload extrernal modules every new cell execution\n",
    "%reload_ext autoreload\n",
    "%autoreload 2"
   ]
  },
  {
   "cell_type": "code",
   "execution_count": 31,
   "metadata": {},
   "outputs": [],
   "source": [
    "### IMPORT ###\n",
    "from pathlib import Path\n",
    "import csv\n",
    "from datetime import datetime\n",
    "import pandas as pd"
   ]
  },
  {
   "cell_type": "code",
   "execution_count": 32,
   "metadata": {},
   "outputs": [],
   "source": [
    "### LOCAL IMPORT ###\n",
    "from config import config_reader\n",
    "from utilities import read_csv_data, fix_date, json_data_to_list_dict, dic_get_years"
   ]
  },
  {
   "cell_type": "code",
   "execution_count": 60,
   "metadata": {},
   "outputs": [],
   "source": [
    "### GLOBALS ###\n",
    "yaml_config = config_reader.config_read_yaml(\"config.yml\", \"config\")\n",
    "# print(yaml_config) # debug\n",
    "data_dir = str(yaml_config[\"DATA_DIR\"])\n",
    "log_dir = str(yaml_config[\"LOG_DIR\"])\n",
    "stats_dir = str(yaml_config[\"STATS_DIR\"])\n",
    "ted_cfc_file = str(yaml_config[\"TED_CFC_FILE\"]) # input\n",
    "ted_can_file = str(yaml_config[\"TED_CAN_FILE\"]) # input\n",
    "ted_config_file = str(yaml_config[\"TED_CONFIG_FILE\"]) # input: filter configuration\n",
    "dic_types_cfc = dict(yaml_config[\"TED_CFC_TYPES\"]) # input\n",
    "dic_types_can = dict(yaml_config[\"TED_CAN_TYPES\"]) # input\n",
    "list_ted_log_events = list(yaml_config[\"TED_LOG_EVENTS\"]) # input\n",
    "list_ted_log_attributes = list(yaml_config[\"TED_LOG_ATTRIBUTES\"])\n",
    "ted_join_file = str(yaml_config[\"TED_JOIN_FILE\"]) # output\n",
    "log_file = str(yaml_config[\"LOG_FILE\"]) # output"
   ]
  },
  {
   "cell_type": "code",
   "execution_count": 34,
   "metadata": {},
   "outputs": [
    {
     "name": "stdout",
     "output_type": "stream",
     "text": [
      "\n",
      "*** PROGRAM START ***\n",
      "\n",
      "Start process:  2024-09-07 15:48:03\n",
      "\n"
     ]
    }
   ],
   "source": [
    "### MAIN ###\n",
    "print()\n",
    "print(\"*** PROGRAM START ***\")\n",
    "print()\n",
    "\n",
    "start_time = datetime.now().replace(microsecond=0)\n",
    "print(\"Start process: \", str(start_time))\n",
    "print()"
   ]
  },
  {
   "cell_type": "code",
   "execution_count": 35,
   "metadata": {},
   "outputs": [
    {
     "name": "stdout",
     "output_type": "stream",
     "text": [
      ">> Filters configuration\n",
      "Configuration file: ted_config_data.json\n",
      "Configuration list: [{'CAE_TYPE': ['3']}, {'ISO_COUNTRY_CODE': ['IT', 'FR', 'ES', 'DE', 'PT']}, {'YEAR': [2016, 2017, 2018, 2019, 2020, 2021, 2022]}]\n",
      "Minimum value for YEAR: 2016\n",
      "Maximum value for YEAR: 2022\n"
     ]
    }
   ],
   "source": [
    "# Gets filters from JSON configuration\n",
    "print(\">> Filters configuration\")\n",
    "print(\"Configuration file:\", ted_config_file)\n",
    "list_filters = json_data_to_list_dict(ted_config_file)\n",
    "print(\"Configuration list:\", list_filters) \n",
    "# Find the dictionary with the key 'YEAR' and get min/max values\n",
    "min_year, max_year = dic_get_years(list_filters, 'YEAR')"
   ]
  },
  {
   "cell_type": "code",
   "execution_count": 36,
   "metadata": {},
   "outputs": [
    {
     "name": "stdout",
     "output_type": "stream",
     "text": [
      ">> Reading CFC and CAN files\n",
      "Reading: data/TED_CFC_2016-2022.csv\n",
      "Dataframe CFC length: 821187\n",
      "Reading: data/TED_CAN_2016-2022.csv\n",
      "Dataframe CAN length: 738302\n",
      "\n"
     ]
    }
   ],
   "source": [
    "# Reads CFC and CAN type CVS\n",
    "print(\">> Reading CFC and CAN files\")\n",
    "path_cfc_file = Path(data_dir) / ted_cfc_file.replace(\"YS\", str(min_year)).replace(\"YE\", str(max_year))\n",
    "print(\"Reading:\", str(path_cfc_file))\n",
    "df_cfc = read_csv_data(path_cfc_file, dic_types_cfc, \";\")\n",
    "df_cfc_len = len(df_cfc)\n",
    "print(\"Dataframe CFC length:\", df_cfc_len)\n",
    "path_can_file = Path(data_dir) / ted_can_file.replace(\"YS\", str(min_year)).replace(\"YE\", str(max_year))\n",
    "print(\"Reading:\", str(path_can_file))\n",
    "df_can = read_csv_data(path_can_file, dic_types_can, \";\")\n",
    "df_can_len = len(df_can)\n",
    "print(\"Dataframe CAN length:\", df_can_len)\n",
    "print()"
   ]
  },
  {
   "cell_type": "code",
   "execution_count": 37,
   "metadata": {},
   "outputs": [
    {
     "name": "stdout",
     "output_type": "stream",
     "text": [
      ">> Joining CFC and CAN dataframes\n",
      "Joint dataframe shape: (8608331, 96)\n",
      "Data saved to: data/TED_CFC_CAN_2016-2022.csv\n",
      "\n"
     ]
    }
   ],
   "source": [
    "# Join the CFC and CAN dataframe\n",
    "# The two datasets are linked by CFC.FUTURE_CAN_ID = CAN.ID_NOTICE_CAN. Note: the CAN of a CFC may be missing, due to the tender (CFC.ID_NOTICE_CN) not having been awarded.\n",
    "print(\">> Joining CFC and CAN dataframes\")\n",
    "\n",
    "path_out = Path(data_dir) / ted_join_file.replace(\"YS\", str(min_year)).replace(\"YE\", str(max_year))\n",
    "\n",
    "df_join = None\n",
    "\n",
    "if path_out.exists():\n",
    "    print(\"The CFC and CAN merged file already exists:\", path_out)\n",
    "    print(f\"If you wish to recreate it, delete the file '{path_out}'\")\n",
    "else:\n",
    "    # Join and clean\n",
    "    df_join = pd.merge(left = df_cfc, right = df_can, left_on='FUTURE_CAN_ID', right_on='ID_NOTICE_CAN', how = 'inner')\n",
    "\n",
    "    # Drop columns with '_y'\n",
    "    cols_to_drop = [col for col in df_join.columns if col.endswith('_y')]\n",
    "    df_join.drop(columns=cols_to_drop, inplace=True)\n",
    "    # Rename columns with '_x'\n",
    "    rename_dict = {col: col.rstrip('_x') for col in df_join.columns if col.endswith('_x')}\n",
    "    df_join.rename(columns=rename_dict, inplace=True)\n",
    "\n",
    "    # Output and Save\n",
    "    print(\"Joint dataframe shape:\", df_join.shape)\n",
    "    df_join.to_csv(path_out, sep=\";\", index=False, quoting=csv.QUOTE_NONNUMERIC)\n",
    "    print(\"Data saved to:\", str(path_out)) \n",
    "print()"
   ]
  },
  {
   "cell_type": "code",
   "execution_count": 38,
   "metadata": {},
   "outputs": [
    {
     "name": "stdout",
     "output_type": "stream",
     "text": [
      ">> Preparing the output\n",
      "Event log directory: data_log\n",
      "\n"
     ]
    }
   ],
   "source": [
    "# Preparing the output\n",
    "print(\">> Preparing the output\")\n",
    "out_dir = Path(log_dir)\n",
    "print(\"Event log directory:\", str(out_dir))\n",
    "out_dir.mkdir(exist_ok=True)\n",
    "print()"
   ]
  },
  {
   "cell_type": "code",
   "execution_count": 39,
   "metadata": {},
   "outputs": [
    {
     "name": "stdout",
     "output_type": "stream",
     "text": [
      ">> Creating the event log\n",
      "Features used as trace event: ['ID_NOTICE_CN', 'DT_DISPATCH', 'CONTRACT_START', 'CONTRACT_COMPLETION', 'DT_APPLICATIONS', 'DT_AWARD']\n",
      "Features used as trace attribute: ['TYPE_OF_CONTRACT', 'VALUE_EURO', 'B_ELECTRONIC_AUCTION', 'B_FRA_AGREEMENT', 'TAL_LOCATION_NUTS', 'CPV', 'ISO_COUNTRY_CODE', 'YEAR']\n",
      "Features (all): ['ID_NOTICE_CN', 'DT_DISPATCH', 'CONTRACT_START', 'CONTRACT_COMPLETION', 'DT_APPLICATIONS', 'DT_AWARD', 'TYPE_OF_CONTRACT', 'VALUE_EURO', 'B_ELECTRONIC_AUCTION', 'B_FRA_AGREEMENT', 'TAL_LOCATION_NUTS', 'CPV', 'ISO_COUNTRY_CODE', 'YEAR']\n",
      "\n"
     ]
    }
   ],
   "source": [
    "# List of features of interest for the event log\n",
    "print(\">> Creating the event log\")\n",
    "print(\"Features used as trace event:\", list_ted_log_events)\n",
    "print(\"Features used as trace attribute:\", list_ted_log_attributes)\n",
    "list_ted_log_features = list_ted_log_events + list_ted_log_attributes\n",
    "print(\"Features (all):\", list_ted_log_features)\n",
    "print()"
   ]
  },
  {
   "cell_type": "code",
   "execution_count": 40,
   "metadata": {},
   "outputs": [
    {
     "name": "stdout",
     "output_type": "stream",
     "text": [
      "> Starting dataframe\n",
      "Columns considered: Index(['ID_NOTICE_CN', 'DT_DISPATCH', 'CONTRACT_START', 'CONTRACT_COMPLETION',\n",
      "       'DT_APPLICATIONS', 'DT_AWARD', 'TYPE_OF_CONTRACT', 'VALUE_EURO',\n",
      "       'B_ELECTRONIC_AUCTION', 'B_FRA_AGREEMENT', 'TAL_LOCATION_NUTS', 'CPV',\n",
      "       'ISO_COUNTRY_CODE', 'YEAR'],\n",
      "      dtype='object')\n"
     ]
    }
   ],
   "source": [
    "# Select from the full dataframe only the columns in the feature list\n",
    "print(\"> Starting dataframe\")\n",
    "df_ted_log = df_join[list_ted_log_features]\n",
    "print(\"Columns considered:\", df_ted_log.columns)"
   ]
  },
  {
   "cell_type": "code",
   "execution_count": 41,
   "metadata": {},
   "outputs": [
    {
     "name": "stdout",
     "output_type": "stream",
     "text": [
      "> Checking distinct feature values\n",
      "B_ELECTRONIC_AUCTION: ['N' nan 'Y']\n",
      "B_FRA_AGREEMENT: ['N' 'Y']\n",
      "TYPE_OF_CONTRACT: ['U' 'S' 'W']\n",
      "ISO_COUNTRY_CODE: ['ES' 'DE' 'FR' 'IT' 'PT']\n",
      "YEAR: [2016 2017 2018 2019 2020 2021 2022]\n",
      "\n"
     ]
    }
   ],
   "source": [
    "# Checking distinct feature values\n",
    "print(\"> Checking distinct feature values\")\n",
    "print(\"B_ELECTRONIC_AUCTION:\", df_ted_log[\"B_ELECTRONIC_AUCTION\"].unique())\n",
    "print(\"B_FRA_AGREEMENT:\", df_ted_log[\"B_FRA_AGREEMENT\"].unique())\n",
    "print(\"TYPE_OF_CONTRACT:\", df_ted_log[\"TYPE_OF_CONTRACT\"].unique())\n",
    "print(\"ISO_COUNTRY_CODE:\", df_ted_log[\"ISO_COUNTRY_CODE\"].unique())\n",
    "print(\"YEAR:\", df_ted_log[\"YEAR\"].unique())\n",
    "print()"
   ]
  },
  {
   "cell_type": "code",
   "execution_count": 42,
   "metadata": {},
   "outputs": [
    {
     "name": "stdout",
     "output_type": "stream",
     "text": [
      "> Creating the event log\n",
      "[OK]\n",
      "> Ordering the event log\n",
      "[OK]\n",
      "> Adding case frequencies\n",
      "[OK]\n",
      "\n",
      "Cases in the final event log: 229632\n"
     ]
    }
   ],
   "source": [
    "print(\"> Creating the event log\")\n",
    "\n",
    "# Removes rows with ID_NOTICE_CN null \n",
    "df_country = df_ted_log[df_ted_log['ID_NOTICE_CN'].notna()]\n",
    "\n",
    "# Event log header\n",
    "event_log = pd.DataFrame(columns=['case_id', 'event', 'timestamp', 't_type', 'amount', 'electronic', 'framework_agr', 'nuts', 'country', 'cpv_division', 'cpv'], dtype=object) # All columns have the default type 'object'.\n",
    "event_log['amount'] = event_log['amount'].astype(float)\n",
    "\n",
    "# print(\"Event log header:\", event_log.columns) # debug\n",
    "\n",
    "# Events (condition T/F, event name, column feature); the column feature contains the timestamp\n",
    "# (ID_NOTICE_CN is the case-id, the other columns contain the timestamp so if they are not empty the event has occurred)\n",
    "conditions = [\n",
    "    (~df_country['DT_DISPATCH'].isna(), 'PUBLICATION', 'DT_DISPATCH'),\n",
    "    (~df_country['DT_APPLICATIONS'].isna(), 'PARTICIPATION', 'DT_APPLICATIONS'),\n",
    "    (~df_country['DT_AWARD'].isna(), 'AWARD', 'DT_AWARD'),\n",
    "    (~df_country['CONTRACT_START'].isna(), 'CONTRACT-START', 'CONTRACT_START'),\n",
    "    (~df_country['CONTRACT_COMPLETION'].isna(), 'CONTRACT-END', 'CONTRACT_COMPLETION'),\n",
    "]\n",
    "\n",
    "for condition, event_name, date_col in conditions:\n",
    "    temp_df = df_country[condition].copy()  # .copy() to avoid SettingWithCopyWarning\n",
    "    temp_df['event'] = event_name\n",
    "    temp_df['timestamp'] = temp_df[date_col].apply(fix_date)\n",
    "    temp_df['case_id'] = temp_df['ID_NOTICE_CN']\n",
    "    temp_df['t_type'] = temp_df['TYPE_OF_CONTRACT']\n",
    "    temp_df['amount'] = temp_df['VALUE_EURO'].astype(float)\n",
    "    temp_df['electronic'] = temp_df['B_ELECTRONIC_AUCTION']\n",
    "    temp_df['framework_agr'] = temp_df['B_FRA_AGREEMENT']\n",
    "    temp_df['nuts'] = temp_df['TAL_LOCATION_NUTS']\n",
    "    temp_df['country'] =  temp_df['ISO_COUNTRY_CODE']\n",
    "    temp_df['cpv_division'] = temp_df['CPV'].str[:2]\n",
    "    temp_df['cpv'] = temp_df['CPV']    \n",
    "    \n",
    "    # Let us ensure that all necessary columns are present before concatenating\n",
    "    temp_df = temp_df[['case_id', 'event', 'timestamp', 't_type', 'amount', 'electronic', 'framework_agr', 'nuts', 'country', 'cpv_division', 'cpv']] # same as event log header\n",
    "    event_log = pd.concat([event_log, temp_df])\n",
    "\n",
    "event_log = event_log.drop_duplicates()\n",
    "print(\"[OK]\")\n",
    "\n",
    "print(\"> Ordering the event log\")\n",
    "# Order by 'case_id' and 'timestamp'\n",
    "event_log = event_log.sort_values(by=['case_id', 'timestamp'])\n",
    "print(\"[OK]\")\n",
    "\n",
    "print(\"> Adding case frequencies\")\n",
    "# Order by 'case_id' and 'timestamp'\n",
    "event_log['case_len'] = event_log.groupby('case_id')['case_id'].transform('count')\n",
    "print(\"[OK]\")\n",
    "\n",
    "print()\n",
    "print(\"Cases in the final event log:\", event_log['case_id'].nunique())"
   ]
  },
  {
   "cell_type": "code",
   "execution_count": 43,
   "metadata": {},
   "outputs": [
    {
     "name": "stdout",
     "output_type": "stream",
     "text": [
      "> Adding case frequencies stats\n"
     ]
    },
    {
     "data": {
      "text/html": [
       "<div>\n",
       "<style scoped>\n",
       "    .dataframe tbody tr th:only-of-type {\n",
       "        vertical-align: middle;\n",
       "    }\n",
       "\n",
       "    .dataframe tbody tr th {\n",
       "        vertical-align: top;\n",
       "    }\n",
       "\n",
       "    .dataframe thead th {\n",
       "        text-align: right;\n",
       "    }\n",
       "</style>\n",
       "<table border=\"1\" class=\"dataframe\">\n",
       "  <thead>\n",
       "    <tr style=\"text-align: right;\">\n",
       "      <th></th>\n",
       "      <th>case_len</th>\n",
       "      <th>count</th>\n",
       "      <th>count_perc</th>\n",
       "    </tr>\n",
       "  </thead>\n",
       "  <tbody>\n",
       "    <tr>\n",
       "      <th>0</th>\n",
       "      <td>3</td>\n",
       "      <td>101472</td>\n",
       "      <td>44.0</td>\n",
       "    </tr>\n",
       "    <tr>\n",
       "      <th>1</th>\n",
       "      <td>5</td>\n",
       "      <td>86125</td>\n",
       "      <td>38.0</td>\n",
       "    </tr>\n",
       "    <tr>\n",
       "      <th>2</th>\n",
       "      <td>4</td>\n",
       "      <td>21443</td>\n",
       "      <td>9.0</td>\n",
       "    </tr>\n",
       "    <tr>\n",
       "      <th>3</th>\n",
       "      <td>2</td>\n",
       "      <td>11798</td>\n",
       "      <td>5.0</td>\n",
       "    </tr>\n",
       "    <tr>\n",
       "      <th>4</th>\n",
       "      <td>6</td>\n",
       "      <td>4530</td>\n",
       "      <td>2.0</td>\n",
       "    </tr>\n",
       "    <tr>\n",
       "      <th>...</th>\n",
       "      <td>...</td>\n",
       "      <td>...</td>\n",
       "      <td>...</td>\n",
       "    </tr>\n",
       "    <tr>\n",
       "      <th>78</th>\n",
       "      <td>43</td>\n",
       "      <td>1</td>\n",
       "      <td>0.0</td>\n",
       "    </tr>\n",
       "    <tr>\n",
       "      <th>79</th>\n",
       "      <td>241</td>\n",
       "      <td>1</td>\n",
       "      <td>0.0</td>\n",
       "    </tr>\n",
       "    <tr>\n",
       "      <th>80</th>\n",
       "      <td>210</td>\n",
       "      <td>1</td>\n",
       "      <td>0.0</td>\n",
       "    </tr>\n",
       "    <tr>\n",
       "      <th>81</th>\n",
       "      <td>80</td>\n",
       "      <td>1</td>\n",
       "      <td>0.0</td>\n",
       "    </tr>\n",
       "    <tr>\n",
       "      <th>82</th>\n",
       "      <td>34</td>\n",
       "      <td>1</td>\n",
       "      <td>0.0</td>\n",
       "    </tr>\n",
       "  </tbody>\n",
       "</table>\n",
       "<p>83 rows × 3 columns</p>\n",
       "</div>"
      ],
      "text/plain": [
       "    case_len   count  count_perc\n",
       "0          3  101472        44.0\n",
       "1          5   86125        38.0\n",
       "2          4   21443         9.0\n",
       "3          2   11798         5.0\n",
       "4          6    4530         2.0\n",
       "..       ...     ...         ...\n",
       "78        43       1         0.0\n",
       "79       241       1         0.0\n",
       "80       210       1         0.0\n",
       "81        80       1         0.0\n",
       "82        34       1         0.0\n",
       "\n",
       "[83 rows x 3 columns]"
      ]
     },
     "execution_count": 43,
     "metadata": {},
     "output_type": "execute_result"
    }
   ],
   "source": [
    "print(\"> Adding case frequencies stats\")\n",
    "# Creating the dataframe with the 'case_len' frequency\n",
    "df_unique = event_log.drop_duplicates(subset=['case_id']) # get one row per case\n",
    "case_len_freq = df_unique['case_len'].value_counts().reset_index()\n",
    "case_len_freq.columns = ['case_len', 'count']\n",
    "# Calculate the percentage of occurrences\n",
    "case_len_freq['count_perc'] = round((case_len_freq['count'] / case_len_freq['count'].sum()),2) * 100\n",
    "# Sort the dataframe by 'case_len'\n",
    "case_len_freq = case_len_freq.sort_values(by='count', ascending=False).reset_index(drop=True)\n",
    "case_len_freq"
   ]
  },
  {
   "cell_type": "code",
   "execution_count": 44,
   "metadata": {},
   "outputs": [
    {
     "name": "stdout",
     "output_type": "stream",
     "text": [
      "> Case length frequencies stats saving\n"
     ]
    }
   ],
   "source": [
    "print(\"> Case length frequencies stats saving\")\n",
    "name = f\"TED_CFC_CAN_{str(min_year)}-{str(max_year)}_stats\"\n",
    "log_stats_csv = f\"{name}.csv\"\n",
    "log_stats_xls = f\"{name}.xlsx\"\n",
    "path_out = Path(log_dir) / log_stats_csv\n",
    "case_len_freq.to_csv(path_out, index=False, sep=';')\n",
    "path_out = Path(log_dir) / log_stats_xls\n",
    "case_len_freq.to_excel(path_out, index=False, sheet_name=name)"
   ]
  },
  {
   "cell_type": "code",
   "execution_count": 45,
   "metadata": {},
   "outputs": [
    {
     "name": "stdout",
     "output_type": "stream",
     "text": [
      "> Saving the final event log\n",
      "Saving event log to: data_log/TED_log_2016-2022.csv\n",
      "[OK]\n",
      "Total number of cases: 229632\n"
     ]
    }
   ],
   "source": [
    "print(\"> Saving the final event log\")\n",
    "log_file = log_file.replace(\"YS\", str(min_year)).replace(\"YE\", str(max_year))\n",
    "path_out = Path(log_dir) / log_file\n",
    "print(\"Saving event log to:\", str(path_out))\n",
    "event_log.to_csv(path_out, index=False, sep=';')\n",
    "print(\"[OK]\")\n",
    "print(\"Total number of cases:\", event_log['case_id'].nunique())"
   ]
  },
  {
   "cell_type": "code",
   "execution_count": 46,
   "metadata": {},
   "outputs": [
    {
     "name": "stdout",
     "output_type": "stream",
     "text": [
      ">> Splitting the event log by country\n",
      "Available countries: ['ES', 'DE', 'FR', 'IT', 'PT']\n",
      "Saving event log of country 'ES' to: data_log/TED_log_2016-2022_ES.csv\n",
      "Total number of cases for country 'ES': 33033\n",
      "Saving event log of country 'DE' to: data_log/TED_log_2016-2022_DE.csv\n",
      "Total number of cases for country 'DE': 111023\n",
      "Saving event log of country 'FR' to: data_log/TED_log_2016-2022_FR.csv\n",
      "Total number of cases for country 'FR': 66382\n",
      "Saving event log of country 'IT' to: data_log/TED_log_2016-2022_IT.csv\n",
      "Total number of cases for country 'IT': 16861\n",
      "Saving event log of country 'PT' to: data_log/TED_log_2016-2022_PT.csv\n",
      "Total number of cases for country 'PT': 2333\n"
     ]
    }
   ],
   "source": [
    "print(\">> Splitting the event log by country\")\n",
    "list_countries = list(event_log[\"country\"].unique()) # get the coutries\n",
    "print(\"Available countries:\",list_countries)\n",
    "for country in list_countries:\n",
    "    df_country = event_log[event_log[\"country\"]==country] # dataframe by country\n",
    "    log_file_name = f\"{log_file.split('.')[0]}_{country}.csv\"\n",
    "    path_out = Path(log_dir) / log_file_name\n",
    "    print(f\"Saving event log of country '{country}' to:\", str(path_out))\n",
    "    df_country.to_csv(path_out, index=False, sep=';')\n",
    "    print(f\"Total number of cases for country '{country}': {df_country['case_id'].nunique()}\")"
   ]
  },
  {
   "cell_type": "code",
   "execution_count": 52,
   "metadata": {},
   "outputs": [
    {
     "name": "stdout",
     "output_type": "stream",
     "text": [
      ">> Filtering end-point\n",
      "Start event: PUBLICATION\n",
      "End event: CONTRACT-END\n",
      "Filtered DF by end-point distint cases: 99637\n"
     ]
    }
   ],
   "source": [
    "# Filter about end-point\n",
    "print(\">> Filtering end-point\")\n",
    "\n",
    "start_event = \"PUBLICATION\" # <-- INPUT\n",
    "end_event = \"CONTRACT-END\" # <-- INPUT\n",
    "\n",
    "print(\"Start event:\", start_event)\n",
    "print(\"End event:\", end_event)\n",
    "\n",
    "df = event_log.copy()\n",
    "df = df.sort_values(by=['case_id', 'timestamp'])\n",
    "\n",
    "# Group by case_id to get the first and last event for each case\n",
    "first_event = df.groupby('case_id').first().reset_index()\n",
    "last_event = df.groupby('case_id').last().reset_index()\n",
    "\n",
    "# Filter case_ids where the first event is 'PUBLICATION' and the last event is 'CONTRACT-END'\n",
    "filtered_cases = first_event[(first_event['event'] == start_event) & (last_event['event'] == end_event)]\n",
    "\n",
    "# Get the case_ids that meet the filter criteria\n",
    "filtered_case_ids = filtered_cases['case_id']\n",
    "\n",
    "# Filter the original DataFrame to include only the filtered case_ids\n",
    "df_filtered = df[df['case_id'].isin(filtered_case_ids)]\n",
    "\n",
    "print(\"Filtered DF by end-point distint cases:\", df_filtered[\"case_id\"].nunique())"
   ]
  },
  {
   "cell_type": "code",
   "execution_count": 65,
   "metadata": {},
   "outputs": [
    {
     "name": "stdout",
     "output_type": "stream",
     "text": [
      ">> Stats about case duration by country\n"
     ]
    }
   ],
   "source": [
    "# Stats about case duration by country\n",
    "print(\">> Stats about case duration by country\")\n",
    "# Now calculate the duration for each filtered case_id\n",
    "case_durations = df_filtered.groupby('case_id').agg(\n",
    "    start_time=('timestamp', 'first'),\n",
    "    end_time=('timestamp', 'last'),\n",
    "    country=('country', 'first')  # Assume the country is the same for the entire case_id\n",
    ")\n",
    "\n",
    "# Convert 'start_time' and 'end_time' to datetime, just in case they are still strings\n",
    "case_durations['start_time'] = pd.to_datetime(case_durations['start_time'])\n",
    "case_durations['end_time'] = pd.to_datetime(case_durations['end_time'])\n",
    "\n",
    "# Calculate the duration in seconds\n",
    "case_durations['duration_in_seconds'] = (case_durations['end_time'] - case_durations['start_time']).dt.total_seconds()\n",
    "\n",
    "# Convert the duration into months (approximate)\n",
    "case_durations['duration_months'] = case_durations['duration_in_seconds'] / (30.44 * 24 * 3600)  # Approximate months\n",
    "\n",
    "# Group by 'country' and calculate the mean, median, and standard deviation for durations in months\n",
    "stats_per_country = case_durations.groupby('country').agg(\n",
    "    num_case_ids=('country', 'size'),  # Number of distinct case_ids for each country\n",
    "    mean_duration_months=('duration_months', 'mean'),\n",
    "    median_duration_months=('duration_months', 'median'),\n",
    "    std_duration_months=('duration_months', 'std')\n",
    ").reset_index()\n",
    "\n",
    "# Round the results to 2 decimal places\n",
    "stats_per_country = stats_per_country.round({\n",
    "    'mean_duration_months': 2,\n",
    "    'median_duration_months': 2,\n",
    "    'std_duration_months': 2\n",
    "})"
   ]
  },
  {
   "cell_type": "code",
   "execution_count": 66,
   "metadata": {},
   "outputs": [
    {
     "data": {
      "text/html": [
       "<div>\n",
       "<style scoped>\n",
       "    .dataframe tbody tr th:only-of-type {\n",
       "        vertical-align: middle;\n",
       "    }\n",
       "\n",
       "    .dataframe tbody tr th {\n",
       "        vertical-align: top;\n",
       "    }\n",
       "\n",
       "    .dataframe thead th {\n",
       "        text-align: right;\n",
       "    }\n",
       "</style>\n",
       "<table border=\"1\" class=\"dataframe\">\n",
       "  <thead>\n",
       "    <tr style=\"text-align: right;\">\n",
       "      <th></th>\n",
       "      <th>country</th>\n",
       "      <th>num_case_ids</th>\n",
       "      <th>mean_duration_months</th>\n",
       "      <th>median_duration_months</th>\n",
       "      <th>std_duration_months</th>\n",
       "    </tr>\n",
       "  </thead>\n",
       "  <tbody>\n",
       "    <tr>\n",
       "      <th>0</th>\n",
       "      <td>DE</td>\n",
       "      <td>86674</td>\n",
       "      <td>25.17</td>\n",
       "      <td>17.35</td>\n",
       "      <td>23.02</td>\n",
       "    </tr>\n",
       "    <tr>\n",
       "      <th>1</th>\n",
       "      <td>ES</td>\n",
       "      <td>1474</td>\n",
       "      <td>24.29</td>\n",
       "      <td>23.05</td>\n",
       "      <td>15.91</td>\n",
       "    </tr>\n",
       "    <tr>\n",
       "      <th>2</th>\n",
       "      <td>FR</td>\n",
       "      <td>9228</td>\n",
       "      <td>36.99</td>\n",
       "      <td>27.69</td>\n",
       "      <td>28.22</td>\n",
       "    </tr>\n",
       "    <tr>\n",
       "      <th>3</th>\n",
       "      <td>IT</td>\n",
       "      <td>2220</td>\n",
       "      <td>41.70</td>\n",
       "      <td>38.58</td>\n",
       "      <td>24.05</td>\n",
       "    </tr>\n",
       "    <tr>\n",
       "      <th>4</th>\n",
       "      <td>PT</td>\n",
       "      <td>41</td>\n",
       "      <td>19.77</td>\n",
       "      <td>14.62</td>\n",
       "      <td>11.82</td>\n",
       "    </tr>\n",
       "  </tbody>\n",
       "</table>\n",
       "</div>"
      ],
      "text/plain": [
       "  country  num_case_ids  mean_duration_months  median_duration_months  \\\n",
       "0      DE         86674                 25.17                   17.35   \n",
       "1      ES          1474                 24.29                   23.05   \n",
       "2      FR          9228                 36.99                   27.69   \n",
       "3      IT          2220                 41.70                   38.58   \n",
       "4      PT            41                 19.77                   14.62   \n",
       "\n",
       "   std_duration_months  \n",
       "0                23.02  \n",
       "1                15.91  \n",
       "2                28.22  \n",
       "3                24.05  \n",
       "4                11.82  "
      ]
     },
     "execution_count": 66,
     "metadata": {},
     "output_type": "execute_result"
    }
   ],
   "source": [
    "stats_per_country"
   ]
  },
  {
   "cell_type": "code",
   "execution_count": 67,
   "metadata": {},
   "outputs": [
    {
     "name": "stdout",
     "output_type": "stream",
     "text": [
      ">> Saving stats per country\n"
     ]
    }
   ],
   "source": [
    "print(\">> Saving stats per country\")\n",
    "file_stats = Path(stats_dir) / \"event_log_country_duration_stats.csv\"\n",
    "stats_per_country.to_csv(file_stats, sep=\";\", index=False)"
   ]
  },
  {
   "cell_type": "code",
   "execution_count": 49,
   "metadata": {},
   "outputs": [
    {
     "name": "stdout",
     "output_type": "stream",
     "text": [
      "\n",
      "End process: 2024-09-07 15:51:41\n",
      "Time to finish: 0:03:38\n",
      "\n",
      "\n",
      "*** PROGRAM END ***\n",
      "\n"
     ]
    }
   ],
   "source": [
    "end_time = datetime.now().replace(microsecond=0)\n",
    "delta_time = end_time - start_time\n",
    "\n",
    "print()\n",
    "print(\"End process:\", end_time)\n",
    "print(\"Time to finish:\", delta_time)\n",
    "print()\n",
    "\n",
    "print()\n",
    "print(\"*** PROGRAM END ***\")\n",
    "print()"
   ]
  }
 ],
 "metadata": {
  "kernelspec": {
   "display_name": "Python 3",
   "language": "python",
   "name": "python3"
  },
  "language_info": {
   "codemirror_mode": {
    "name": "ipython",
    "version": 3
   },
   "file_extension": ".py",
   "mimetype": "text/x-python",
   "name": "python",
   "nbconvert_exporter": "python",
   "pygments_lexer": "ipython3",
   "version": "3.12.2"
  }
 },
 "nbformat": 4,
 "nbformat_minor": 2
}
