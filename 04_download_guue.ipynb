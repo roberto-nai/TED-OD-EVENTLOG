{
 "cells": [
  {
   "cell_type": "code",
   "execution_count": 1,
   "metadata": {},
   "outputs": [],
   "source": [
    "# 04_download_guue\n",
    "# Starting from the file defined in TED_URLS_FILE, it downloads the linked PDFs in the 'PDF_NOTICE_URL' column of the CSV and saves them in GUUE_DIR. "
   ]
  },
  {
   "cell_type": "code",
   "execution_count": 2,
   "metadata": {},
   "outputs": [],
   "source": [
    "# Force to reload extrernal modules every new cell execution\n",
    "%reload_ext autoreload\n",
    "%autoreload 2"
   ]
  },
  {
   "cell_type": "code",
   "execution_count": 3,
   "metadata": {},
   "outputs": [],
   "source": [
    "### IMPORT ###\n",
    "from pathlib import Path\n",
    "from datetime import datetime\n",
    "import pandas as pd\n",
    "import requests"
   ]
  },
  {
   "cell_type": "code",
   "execution_count": 4,
   "metadata": {},
   "outputs": [],
   "source": [
    "### LOCAL IMPORT ###\n",
    "from config import config_reader\n",
    "from utilities import read_csv_data"
   ]
  },
  {
   "cell_type": "code",
   "execution_count": 5,
   "metadata": {},
   "outputs": [],
   "source": [
    "### GLOBALS ###\n",
    "yaml_config = config_reader.config_read_yaml(\"config.yml\", \"config\")\n",
    "# print(yaml_config) # debug\n",
    "data_dir = str(yaml_config[\"DATA_DIR\"])\n",
    "ted_urls_file = str(yaml_config[\"TED_URLS_FILE\"]) # input\n",
    "ted_lang_codes = list(yaml_config[\"TED_LANG_DOWNLOAD\"]) # input\n",
    "ted_cpv_codes = list(yaml_config[\"TED_CPV_DOWNLOAD\"]) # input\n",
    "ted_cpv_codes_str = [str(code) for code in ted_cpv_codes]\n",
    "guue_dir = str(yaml_config[\"GUUE_DIR\"]) # output"
   ]
  },
  {
   "cell_type": "code",
   "execution_count": 6,
   "metadata": {},
   "outputs": [],
   "source": [
    "### FUNCTIONS ###\n",
    "def get_filename_from_cd(content_disposition: str) -> str:\n",
    "    \"\"\"\n",
    "    Extracts the filename from the Content-Disposition header.\n",
    "\n",
    "    Parameters:\n",
    "        content_disposition (str): The Content-Disposition header from which to extract the filename.\n",
    "\n",
    "    Returns:\n",
    "        str: The extracted filename, or None if the header is not present or does not contain a filename.\n",
    "    \"\"\"\n",
    "    if not content_disposition:\n",
    "        return None\n",
    "    filename = content_disposition.split('filename=')[1]\n",
    "    if filename[0] == '\"' or filename[0] == \"'\":\n",
    "        filename = filename[1:-1]\n",
    "    return filename"
   ]
  },
  {
   "cell_type": "code",
   "execution_count": 7,
   "metadata": {},
   "outputs": [],
   "source": [
    "def download_pdf(url:str, dir_name:str, file_name:str) -> int:\n",
    "    \"\"\"\n",
    "    Downloads a PDF file from the given URL and saves it to the specified directory.\n",
    "\n",
    "    Parameters:\n",
    "        url (str): The URL of the PDF file to be downloaded.\n",
    "        dir_name (Path): The directory where the PDF file will be saved.\n",
    "        file_name (Path): The default name of the PDF file if CD is empty.\n",
    "\n",
    "    Returns:\n",
    "        int: 1 if downloaded, else 0\n",
    "    \"\"\"\n",
    "    try:\n",
    "        response = requests.get(url)\n",
    "        response.raise_for_status() # Check that the request was successful\n",
    "        cd = response.headers.get('Content-Disposition') # attachment; filename=\"2016-OJS008-00010051-fr-ts.pdf\"\n",
    "        # print(\"CD:\", cd) # debug\n",
    "        # If Content-Disposition is available, extract the filename from the URL, else use the default one\n",
    "        if cd:\n",
    "            file_name = get_filename_from_cd(cd)\n",
    "        save_path = Path(dir_name) / file_name\n",
    "        if save_path.exists():\n",
    "            print(f\"File '{save_path}' already exists. Skipping download.\")\n",
    "            return 0\n",
    "        with open(save_path, 'wb') as f:\n",
    "            f.write(response.content)\n",
    "            print(f\"Downloaded '{url}' to '{save_path}'\")\n",
    "            return 1\n",
    "    except Exception as e:\n",
    "        print(f\"Failed to download '{url}': {e}\")\n",
    "        return 0"
   ]
  },
  {
   "cell_type": "code",
   "execution_count": 8,
   "metadata": {},
   "outputs": [
    {
     "name": "stdout",
     "output_type": "stream",
     "text": [
      "\n",
      "*** PROGRAM START ***\n",
      "\n",
      "Start process: 2024-05-28 11:24:36\n",
      "\n"
     ]
    }
   ],
   "source": [
    "### MAIN ###\n",
    "print()\n",
    "print(\"*** PROGRAM START ***\")\n",
    "print()\n",
    "\n",
    "start_time = datetime.now().replace(microsecond=0)\n",
    "print(\"Start process:\", str(start_time))\n",
    "print()"
   ]
  },
  {
   "cell_type": "code",
   "execution_count": 9,
   "metadata": {},
   "outputs": [
    {
     "name": "stdout",
     "output_type": "stream",
     "text": [
      ">> Parsing URLs file\n",
      "Path: data/TED_URLs.csv\n",
      "Rows in CSV file: 324941\n",
      "\n"
     ]
    }
   ],
   "source": [
    "# Reads URLs file\n",
    "print(\">> Parsing URLs file\")\n",
    "dic_types_cfc = {'ID_NOTICE_CN':object, 'YEAR':object, 'CPV_DIVISION':object} # Columns not to be transformed into numbers\n",
    "path_in = Path(data_dir) / ted_urls_file\n",
    "print(\"Path:\", path_in)\n",
    "df_ted_url = read_csv_data(path_in, dic_types_cfc, \";\")\n",
    "df_ted_url = df_ted_url[df_ted_url['PDF_NOTICE_URL'].notna()]\n",
    "df_ted_url_len = len(df_ted_url)\n",
    "print(\"Rows in CSV file:\", df_ted_url_len)\n",
    "# print(df_ted_url.head()) # debug\n",
    "print()"
   ]
  },
  {
   "cell_type": "code",
   "execution_count": 10,
   "metadata": {},
   "outputs": [
    {
     "name": "stdout",
     "output_type": "stream",
     "text": [
      ">> Preparing the output directory\n",
      "Path: guue\n"
     ]
    }
   ],
   "source": [
    "print(\">> Preparing the output directory\")\n",
    "save_dir = Path(guue_dir)\n",
    "save_dir.mkdir(parents=True, exist_ok=True)\n",
    "print(\"Path:\", save_dir)"
   ]
  },
  {
   "cell_type": "code",
   "execution_count": 11,
   "metadata": {},
   "outputs": [
    {
     "name": "stdout",
     "output_type": "stream",
     "text": [
      ">> Downloading PDF files\n",
      "Country list: ['IT']\n",
      "CPV list: [90]\n",
      "Rows for the chosen language: 0\n"
     ]
    }
   ],
   "source": [
    "# Download PDF references in PDF_NOTICE_URL\n",
    "print(\">> Downloading PDF files\")\n",
    "print(\"Country list:\", ted_lang_codes)\n",
    "print(\"CPV list:\", ted_cpv_codes_str)\n",
    "df_ted_url_country = df_ted_url[df_ted_url[\"ISO_COUNTRY_CODE\"].isin(ted_lang_codes)] #  Gets the URLs of only the desired languages\n",
    "df_ted_url_country = df_ted_url_country[df_ted_url_country[\"CPV_DIVISION\"].isin(ted_cpv_codes_str)]\n",
    "df_ted_url_country_len = len(df_ted_url_country)\n",
    "print(\"Rows for the chosen language:\", df_ted_url_country_len)"
   ]
  },
  {
   "cell_type": "code",
   "execution_count": null,
   "metadata": {},
   "outputs": [],
   "source": [
    "print(\"> Download starting...\")\n",
    "i = 0\n",
    "count_ok = 0\n",
    "for index, row in df_ted_url_country.iterrows():\n",
    "    i+=1\n",
    "    print(f\"[{i} / {df_ted_url_country_len}]\")\n",
    "    pdf_url = row['PDF_NOTICE_URL']\n",
    "    file_name = f\"{row['ID_NOTICE_CN']}.pdf\" # Save the PDF with same name of ID_NOTICE_CN if missing in response\n",
    "    ok = download_pdf(pdf_url, guue_dir, file_name)\n",
    "    count_ok+=ok\n",
    "print(\"Total files downloaded:\", count_ok)\n",
    "print()"
   ]
  },
  {
   "cell_type": "code",
   "execution_count": 12,
   "metadata": {},
   "outputs": [
    {
     "name": "stdout",
     "output_type": "stream",
     "text": [
      "\n",
      "End process: 2024-05-28 09:08:35\n",
      "Time to finish: 9:18:25\n",
      "\n",
      "\n",
      "*** PROGRAM END ***\n",
      "\n"
     ]
    }
   ],
   "source": [
    "# program end\n",
    "end_time = datetime.now().replace(microsecond=0)\n",
    "delta_time = end_time - start_time\n",
    "\n",
    "print()\n",
    "print(\"End process:\", end_time)\n",
    "print(\"Time to finish:\", delta_time)\n",
    "print()\n",
    "\n",
    "print()\n",
    "print(\"*** PROGRAM END ***\")\n",
    "print()"
   ]
  }
 ],
 "metadata": {
  "kernelspec": {
   "display_name": "Python 3",
   "language": "python",
   "name": "python3"
  },
  "language_info": {
   "codemirror_mode": {
    "name": "ipython",
    "version": 3
   },
   "file_extension": ".py",
   "mimetype": "text/x-python",
   "name": "python",
   "nbconvert_exporter": "python",
   "pygments_lexer": "ipython3",
   "version": "3.12.2"
  }
 },
 "nbformat": 4,
 "nbformat_minor": 2
}
