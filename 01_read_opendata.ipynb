{
 "cells": [
  {
   "cell_type": "code",
   "execution_count": 25,
   "metadata": {},
   "outputs": [],
   "source": [
    "# 01_read_opendata\n",
    "# Reads, merges and filters raw Open Data.\n",
    "# CFC: Call For Competition (step 1/2)  \n",
    "# CAN: Contract Award Notices (step 2/2)\n",
    "# 2024-05-13: Added URL extraction to the texts of each CFC"
   ]
  },
  {
   "cell_type": "code",
   "execution_count": 26,
   "metadata": {},
   "outputs": [],
   "source": [
    "# Force to reload extrernal modules every new cell execution\n",
    "%reload_ext autoreload\n",
    "%autoreload 2"
   ]
  },
  {
   "cell_type": "code",
   "execution_count": 27,
   "metadata": {},
   "outputs": [],
   "source": [
    "### IMPORT ###\n",
    "from pathlib import Path\n",
    "import csv\n",
    "from datetime import datetime\n",
    "import pandas as pd"
   ]
  },
  {
   "cell_type": "code",
   "execution_count": 28,
   "metadata": {},
   "outputs": [],
   "source": [
    "### LOCAL IMPORT ###\n",
    "from config import config_reader\n",
    "from utilities import list_files_by_type, read_csv_data, data_schema, json_data_to_list_dict, df_filter, df_uniques, dic_get_years"
   ]
  },
  {
   "cell_type": "code",
   "execution_count": 29,
   "metadata": {},
   "outputs": [],
   "source": [
    "### GLOBALS ###\n",
    "yaml_config = config_reader.config_read_yaml(\"config.yml\", \"config\")\n",
    "# print(yaml_config) # debug\n",
    "od_dir = str(yaml_config[\"OD_DIR\"])\n",
    "data_dir = str(yaml_config[\"DATA_DIR\"])\n",
    "stats_dir = str(yaml_config[\"STATS_DIR\"])\n",
    "ted_config_file = str(yaml_config[\"TED_CONFIG_FILE\"]) # input: filter configuration\n",
    "dic_types_cfc = dict(yaml_config[\"TED_CFC_TYPES\"]) # input\n",
    "dic_types_can = dict(yaml_config[\"TED_CAN_TYPES\"]) # input\n",
    "ted_cfc_schema_file = str(yaml_config[\"TED_CFC_SCHEMA_FILE\"]) # output\n",
    "ted_can_schema_file = str(yaml_config[\"TED_CAN_SCHEMA_FILE\"]) # output\n",
    "ted_urls_file = str(yaml_config[\"TED_URLS_FILE\"]) # output\n",
    "ted_cfc_file = str(yaml_config[\"TED_CFC_FILE\"]) # output\n",
    "ted_can_file = str(yaml_config[\"TED_CAN_FILE\"]) # output"
   ]
  },
  {
   "cell_type": "code",
   "execution_count": 30,
   "metadata": {},
   "outputs": [],
   "source": [
    "### FUNCTIONS ###\n",
    "def generate_pdf_notice_url(row: pd.Series) -> str:\n",
    "    \"\"\"\n",
    "    Adds a new column 'PDF_NOTICE_URL' to the DataFrame by generating the URL based on the 'TED_NOTICE_URL' and 'ISO_COUNTRY_CODE' columns.\n",
    "    \n",
    "    Parameters:\n",
    "        row (pd.Series): A row of the DataFrame containing TED_NOTICE_URL and ISO_COUNTRY_CODE.\n",
    "    \n",
    "    Returns:\n",
    "        str: The constructed PDF_NOTICE_URL or None if the TED_NOTICE_URL format is incorrect.\n",
    "    \"\"\"\n",
    "\n",
    "    # Check if ISO_COUNTRY_CODE is not null\n",
    "    if pd.isnull(row['ISO_COUNTRY_CODE']):\n",
    "        return None\n",
    "    \n",
    "    # Extract the uri part from the URL\n",
    "    uri_part = row['TED_NOTICE_URL'].split('uri=')[1]\n",
    "    \n",
    "    # Split the uri part to extract the ID\n",
    "    parts = uri_part.split(':')\n",
    "\n",
    "    if len(parts) > 3:\n",
    "        notice_id = parts[2]  # Get the desired element\n",
    "        # Convert ISO country code to lowercase\n",
    "        iso_country_code = row['ISO_COUNTRY_CODE'].lower()\n",
    "        # Construct the new URL\n",
    "        pdf_notice_url = f\"https://ted.europa.eu/{iso_country_code}/notice/{notice_id}/pdfs\"\n",
    "        return pdf_notice_url\n",
    "    \n",
    "    return None\n",
    "\n",
    "def add_pdf_notice_url_column(df: pd.DataFrame) -> pd.DataFrame:\n",
    "    \"\"\"\n",
    "    Adds a new column 'PDF_NOTICE_URL' to the DataFrame by generating the URL based on the 'TED_NOTICE_URL' and 'ISO_COUNTRY_CODE' columns.\n",
    "    \n",
    "    Parameters:\n",
    "        df (pd.DataFrame): The input DataFrame containing 'TED_NOTICE_URL' and 'ISO_COUNTRY_CODE' columns.\n",
    "    \n",
    "    Returns:\n",
    "        pd.DataFrame: The DataFrame with the added 'PDF_NOTICE_URL' column.\n",
    "    \"\"\"\n",
    "    df['PDF_NOTICE_URL'] = df.apply(generate_pdf_notice_url, axis=1)\n",
    "    return df"
   ]
  },
  {
   "cell_type": "code",
   "execution_count": 31,
   "metadata": {},
   "outputs": [
    {
     "name": "stdout",
     "output_type": "stream",
     "text": [
      "\n",
      "*** PROGRAM START ***\n",
      "\n",
      "Start process: 2024-05-28 10:24:09\n",
      "\n"
     ]
    }
   ],
   "source": [
    "### MAIN ###\n",
    "print()\n",
    "print(\"*** PROGRAM START ***\")\n",
    "print()\n",
    "\n",
    "start_time = datetime.now().replace(microsecond=0)\n",
    "print(\"Start process:\", str(start_time))\n",
    "print()"
   ]
  },
  {
   "cell_type": "code",
   "execution_count": 32,
   "metadata": {},
   "outputs": [
    {
     "name": "stdout",
     "output_type": "stream",
     "text": [
      ">> Listing OD files\n",
      "Directory: opendata\n",
      "Files found: 14\n",
      "\n"
     ]
    }
   ],
   "source": [
    "# Create list of CSV files\n",
    "print(\">> Listing OD files\")\n",
    "print(\"Directory:\", od_dir)\n",
    "list_csv_files = list_files_by_type(od_dir, \"csv\") # Gets all CSV type files in od_dir\n",
    "list_csv_files_len = len(list_csv_files)\n",
    "print(\"Files found:\", list_csv_files_len)\n",
    "# print(\"Files:\", list_csv_files) # debug\n",
    "print()"
   ]
  },
  {
   "cell_type": "code",
   "execution_count": 33,
   "metadata": {},
   "outputs": [
    {
     "name": "stdout",
     "output_type": "stream",
     "text": [
      ">> Filters configuration\n",
      "Configuration file: ted_config.json\n",
      "Configuration list: [{'CAE_TYPE': ['3']}, {'ISO_COUNTRY_CODE': ['IT', 'FR', 'ES', 'DE']}, {'YEAR': [2016, 2017, 2018, 2019, 2020, 2021, 2022]}]\n",
      "Minimum value for YEAR: 2016\n",
      "Maximum value for YEAR: 2022\n"
     ]
    }
   ],
   "source": [
    "# Gets filters from JSON configuration\n",
    "print(\">> Filters configuration\")\n",
    "print(\"Configuration file:\", ted_config_file)\n",
    "list_filters = json_data_to_list_dict(ted_config_file)\n",
    "print(\"Configuration list:\",list_filters) \n",
    "# Find the dictionary with the key 'YEAR' and get min/max values\n",
    "min_year, max_year = dic_get_years(list_filters, 'YEAR')"
   ]
  },
  {
   "cell_type": "code",
   "execution_count": 34,
   "metadata": {},
   "outputs": [
    {
     "name": "stdout",
     "output_type": "stream",
     "text": [
      ">> Parsing OD files\n",
      "[1 / 14]\n",
      "Reading CAN file: Export_OpenDataCAN_year2016.csv\n",
      "Dataframe length (complete): 556084\n",
      "Filtering for: {'CAE_TYPE': ['3']} [OK]\n",
      "Filtering for: {'ISO_COUNTRY_CODE': ['IT', 'FR', 'ES', 'DE']} [OK]\n",
      "Filtering for: {'YEAR': [2016, 2017, 2018, 2019, 2020, 2021, 2022]} [OK]\n",
      "Dataframe length (filtered): 66737\n",
      "[2 / 14]\n",
      "Reading CAN file: Export_OpenDataCAN_year2017.csv\n",
      "Dataframe length (complete): 702824\n",
      "Filtering for: {'CAE_TYPE': ['3']} [OK]\n",
      "Filtering for: {'ISO_COUNTRY_CODE': ['IT', 'FR', 'ES', 'DE']} [OK]\n",
      "Filtering for: {'YEAR': [2016, 2017, 2018, 2019, 2020, 2021, 2022]} [OK]\n",
      "Dataframe length (filtered): 82858\n",
      "[3 / 14]\n",
      "Reading CAN file: Export_OpenDataCAN_year2018.csv\n",
      "Dataframe length (complete): 804040\n",
      "Filtering for: {'CAE_TYPE': ['3']} [OK]\n",
      "Filtering for: {'ISO_COUNTRY_CODE': ['IT', 'FR', 'ES', 'DE']} [OK]\n",
      "Filtering for: {'YEAR': [2016, 2017, 2018, 2019, 2020, 2021, 2022]} [OK]\n",
      "Dataframe length (filtered): 98625\n",
      "[4 / 14]\n",
      "Reading CAN file: Export_OpenDataCAN_year2019.csv\n",
      "Dataframe length (complete): 990811\n",
      "Filtering for: {'CAE_TYPE': ['3']} [OK]\n",
      "Filtering for: {'ISO_COUNTRY_CODE': ['IT', 'FR', 'ES', 'DE']} [OK]\n",
      "Filtering for: {'YEAR': [2016, 2017, 2018, 2019, 2020, 2021, 2022]} [OK]\n",
      "Dataframe length (filtered): 116417\n",
      "[5 / 14]\n",
      "Reading CAN file: Export_OpenDataCAN_year2020.csv\n",
      "Dataframe length (complete): 1070272\n",
      "Filtering for: {'CAE_TYPE': ['3']} [OK]\n",
      "Filtering for: {'ISO_COUNTRY_CODE': ['IT', 'FR', 'ES', 'DE']} [OK]\n",
      "Filtering for: {'YEAR': [2016, 2017, 2018, 2019, 2020, 2021, 2022]} [OK]\n",
      "Dataframe length (filtered): 107675\n",
      "[6 / 14]\n",
      "Reading CAN file: Export_OpenDataCAN_year2021.csv\n",
      "Dataframe length (complete): 1162663\n",
      "Filtering for: {'CAE_TYPE': ['3']} [OK]\n",
      "Filtering for: {'ISO_COUNTRY_CODE': ['IT', 'FR', 'ES', 'DE']} [OK]\n",
      "Filtering for: {'YEAR': [2016, 2017, 2018, 2019, 2020, 2021, 2022]} [OK]\n",
      "Dataframe length (filtered): 126482\n",
      "[7 / 14]\n",
      "Reading CAN file: Export_OpenDataCAN_year2022.csv\n",
      "Dataframe length (complete): 1071826\n",
      "Filtering for: {'CAE_TYPE': ['3']} [OK]\n",
      "Filtering for: {'ISO_COUNTRY_CODE': ['IT', 'FR', 'ES', 'DE']} [OK]\n",
      "Filtering for: {'YEAR': [2016, 2017, 2018, 2019, 2020, 2021, 2022]} [OK]\n",
      "Dataframe length (filtered): 131422\n",
      "[8 / 14]\n",
      "Reading CFC file: Export_OpenDataCFC_year2016.csv\n",
      "Dataframe length (complete): 401581\n",
      "Filtering for: {'CAE_TYPE': ['3']} [OK]\n",
      "Filtering for: {'ISO_COUNTRY_CODE': ['IT', 'FR', 'ES', 'DE']} [OK]\n",
      "Filtering for: {'YEAR': [2016, 2017, 2018, 2019, 2020, 2021, 2022]} [OK]\n",
      "Dataframe length (filtered): 131422\n",
      "[9 / 14]\n",
      "Reading CFC file: Export_OpenDataCFC_year2017.csv\n",
      "Dataframe length (complete): 719033\n",
      "Filtering for: {'CAE_TYPE': ['3']} [OK]\n",
      "Filtering for: {'ISO_COUNTRY_CODE': ['IT', 'FR', 'ES', 'DE']} [OK]\n",
      "Filtering for: {'YEAR': [2016, 2017, 2018, 2019, 2020, 2021, 2022]} [OK]\n",
      "Dataframe length (filtered): 131422\n",
      "[10 / 14]\n",
      "Reading CFC file: Export_OpenDataCFC_year2018.csv\n",
      "Dataframe length (complete): 1007214\n",
      "Filtering for: {'CAE_TYPE': ['3']} [OK]\n",
      "Filtering for: {'ISO_COUNTRY_CODE': ['IT', 'FR', 'ES', 'DE']} [OK]\n",
      "Filtering for: {'YEAR': [2016, 2017, 2018, 2019, 2020, 2021, 2022]} [OK]\n",
      "Dataframe length (filtered): 131422\n",
      "[11 / 14]\n",
      "Reading CFC file: Export_OpenDataCFC_year2019.csv\n",
      "Dataframe length (complete): 1314319\n",
      "Filtering for: {'CAE_TYPE': ['3']} [OK]\n",
      "Filtering for: {'ISO_COUNTRY_CODE': ['IT', 'FR', 'ES', 'DE']} [OK]\n",
      "Filtering for: {'YEAR': [2016, 2017, 2018, 2019, 2020, 2021, 2022]} [OK]\n",
      "Dataframe length (filtered): 131422\n",
      "[12 / 14]\n",
      "Reading CFC file: Export_OpenDataCFC_year2020.csv\n",
      "Dataframe length (complete): 1250856\n",
      "Filtering for: {'CAE_TYPE': ['3']} [OK]\n",
      "Filtering for: {'ISO_COUNTRY_CODE': ['IT', 'FR', 'ES', 'DE']} [OK]\n",
      "Filtering for: {'YEAR': [2016, 2017, 2018, 2019, 2020, 2021, 2022]} [OK]\n",
      "Dataframe length (filtered): 131422\n",
      "[13 / 14]\n",
      "Reading CFC file: Export_OpenDataCFC_year2021.csv\n",
      "Dataframe length (complete): 1242338\n",
      "Filtering for: {'CAE_TYPE': ['3']} [OK]\n",
      "Filtering for: {'ISO_COUNTRY_CODE': ['IT', 'FR', 'ES', 'DE']} [OK]\n",
      "Filtering for: {'YEAR': [2016, 2017, 2018, 2019, 2020, 2021, 2022]} [OK]\n",
      "Dataframe length (filtered): 131422\n",
      "[14 / 14]\n",
      "Reading CFC file: Export_OpenDataCFC_year2022.csv\n",
      "Dataframe length (complete): 1067540\n",
      "Filtering for: {'CAE_TYPE': ['3']} [OK]\n",
      "Filtering for: {'ISO_COUNTRY_CODE': ['IT', 'FR', 'ES', 'DE']} [OK]\n",
      "Filtering for: {'YEAR': [2016, 2017, 2018, 2019, 2020, 2021, 2022]} [OK]\n",
      "Dataframe length (filtered): 131422\n",
      "\n"
     ]
    }
   ],
   "source": [
    "# Reads raw data and merge the DataFrames (# CFC.FUTURE_CAN_ID = CNC.ID_NOTICE_CAN) filtering it\n",
    "print(\">> Parsing OD files\")\n",
    "list_cfc = [] # It will contain all dataframes of type CFC\n",
    "list_can = [] # It will contain all dataframes of type CAN\n",
    "i = 0\n",
    "for csv_file in list_csv_files:\n",
    "    i+=1\n",
    "    print(f\"[{i} / {list_csv_files_len}]\")\n",
    "    if \"CFC\" in csv_file.name:\n",
    "        print(\"Reading CFC file:\", csv_file.name)\n",
    "        df = read_csv_data(csv_file, dic_types_cfc)\n",
    "        df_len = len(df)\n",
    "        print(\"Dataframe length (complete):\", df_len)\n",
    "        # filters\n",
    "        # df_filtered = df[df[ted_country_codes_feature].isin(ted_country_codes_values) & df[ted_cae_codes_feature].isin(ted_cae_codes_values)]\n",
    "        df_filtered = df_filter(df, list_filters)\n",
    "        print(\"Dataframe length (filtered):\", df_filtered_len)\n",
    "        list_cfc.append(df_filtered)\n",
    "    if \"CAN\" in csv_file.name:\n",
    "        print(\"Reading CAN file:\", csv_file.name)\n",
    "        df = read_csv_data(csv_file, dic_types_can)\n",
    "        df_len = len(df)\n",
    "        print(\"Dataframe length (complete):\", df_len)\n",
    "        # filters\n",
    "        # df_filtered = df[df[ted_country_codes_feature].isin(ted_country_codes_values) & df[ted_cae_codes_feature].isin(ted_cae_codes_values)]\n",
    "        df_filtered = df_filter(df, list_filters)\n",
    "        df_filtered_len = len(df_filtered)\n",
    "        print(\"Dataframe length (filtered):\", df_filtered_len)\n",
    "        list_can.append(df_filtered)\n",
    "print()"
   ]
  },
  {
   "cell_type": "code",
   "execution_count": 35,
   "metadata": {},
   "outputs": [
    {
     "name": "stdout",
     "output_type": "stream",
     "text": [
      ">> Preparing output\n",
      "\n"
     ]
    }
   ],
   "source": [
    "# Output the data merged and filtered\n",
    "print(\">> Preparing output\")\n",
    "out_dir = Path(data_dir)\n",
    "out_dir.mkdir(exist_ok=True)\n",
    "print()"
   ]
  },
  {
   "cell_type": "code",
   "execution_count": 36,
   "metadata": {},
   "outputs": [
    {
     "name": "stdout",
     "output_type": "stream",
     "text": [
      ">> Creating unique CFC file\n",
      "Final CFC length: 811398\n",
      "Data saved to: data/TED_CFC_2016-2022.csv\n",
      "Schema saved to: data/TED_CFC_schema.csv\n",
      "\n"
     ]
    }
   ],
   "source": [
    "print(\">> Creating unique CFC file\")\n",
    "# Merges all dataframes in the list and saves to file\n",
    "df_cfc = pd.concat(list_cfc, ignore_index=True)\n",
    "df_cfc_len = len(df_cfc)\n",
    "print(\"Final CFC length:\", df_cfc_len)\n",
    "path_out = Path(data_dir) / ted_cfc_file.replace(\"YS\", str(min_year)).replace(\"YE\", str(max_year))\n",
    "df_cfc.to_csv(path_out, sep=\";\", index=False, quoting=csv.QUOTE_NONNUMERIC)\n",
    "print(\"Data saved to:\", str(path_out)) \n",
    "# Get the  schema\n",
    "df_cfc_schema = data_schema(df_cfc)\n",
    "path_out = Path(data_dir) / ted_cfc_schema_file\n",
    "df_cfc_schema.to_csv(path_out, sep=\";\", index=False, quoting=csv.QUOTE_NONNUMERIC)\n",
    "print(\"Schema saved to:\", str(path_out)) \n",
    "print()"
   ]
  },
  {
   "cell_type": "code",
   "execution_count": 37,
   "metadata": {},
   "outputs": [
    {
     "name": "stdout",
     "output_type": "stream",
     "text": [
      ">> Creating unique CAN file\n",
      "Final CAN length: 730216\n",
      "Data saved to: data/TED_CAN_2016-2022.csv\n",
      "Schema saved to: data/TED_CAN_schema.csv\n",
      "\n"
     ]
    }
   ],
   "source": [
    "print(\">> Creating unique CAN file\")\n",
    "# Merges all dataframes in the list and saves to file\n",
    "df_can = pd.concat(list_can, ignore_index=True)\n",
    "df_can_len = len(df_can)\n",
    "print(\"Final CAN length:\", df_can_len)\n",
    "path_out = Path(data_dir) / ted_can_file.replace(\"YS\", str(min_year)).replace(\"YE\", str(max_year))\n",
    "df_can.to_csv(path_out, sep=\";\", index=False, quoting=csv.QUOTE_NONNUMERIC)\n",
    "print(\"Data saved to:\", str(path_out))\n",
    "# Get the  schema\n",
    "df_can_schema = data_schema(df_can)\n",
    "path_out = Path(data_dir) / ted_can_schema_file\n",
    "df_can_schema.to_csv(path_out, sep=\";\", index=False)\n",
    "print(\"Schema saved to:\", str(path_out)) \n",
    "print()"
   ]
  },
  {
   "cell_type": "code",
   "execution_count": 38,
   "metadata": {},
   "outputs": [
    {
     "name": "stdout",
     "output_type": "stream",
     "text": [
      ">> Checking filtered data\n",
      "Dataframe CFC\n",
      "Unique values for column 'CAE_TYPE': ['3']\n",
      "Unique values for column 'ISO_COUNTRY_CODE': ['ES', 'DE', 'IT', 'FR']\n",
      "Unique values for column 'YEAR': [2016, 2017, 2018, 2019, 2020, 2021, 2022]\n",
      "Dataframe CAN\n",
      "Unique values for column 'CAE_TYPE': ['3']\n",
      "Unique values for column 'ISO_COUNTRY_CODE': ['IT', 'FR', 'DE', 'ES']\n",
      "Unique values for column 'YEAR': [2016, 2017, 2018, 2019, 2020, 2021, 2022]\n",
      "\n"
     ]
    }
   ],
   "source": [
    "# Checking filtered data\n",
    "print(\">> Checking filtered data\")\n",
    "# Displaying unique values of the columns involved in the conditions for each dataframe\n",
    "print(\"Dataframe CFC\")\n",
    "df_uniques(df_cfc, list_filters)\n",
    "print(\"Dataframe CAN\")\n",
    "df_uniques(df_can, list_filters)\n",
    "print()"
   ]
  },
  {
   "cell_type": "code",
   "execution_count": 39,
   "metadata": {},
   "outputs": [
    {
     "name": "stdout",
     "output_type": "stream",
     "text": [
      ">> Creating URLs file\n",
      "URLs saved to: data/TED_URLs.csv\n",
      "\n"
     ]
    }
   ],
   "source": [
    "print(\">> Creating URLs file\")\n",
    "# Extracts the URL of the texts of each CFC sorted by ID_NOTICE_CN and YEAR \n",
    "cols_select = [\"ID_NOTICE_CN\", \"YEAR\", \"ISO_COUNTRY_CODE\", \"TED_NOTICE_URL\"]\n",
    "df_cfc_url = df_cfc[cols_select]\n",
    "df_cfc_url = df_cfc_url.drop_duplicates()\n",
    "df_cfc_url = df_cfc_url.sort_values(by = cols_select)\n",
    "df_cfc_url = add_pdf_notice_url_column(df_cfc_url)\n",
    "path_out = Path(data_dir) / ted_urls_file\n",
    "df_cfc_url.to_csv(path_out, sep = \";\", index = False)\n",
    "print(\"URLs saved to:\", str(path_out)) \n",
    "print()"
   ]
  },
  {
   "cell_type": "code",
   "execution_count": 40,
   "metadata": {},
   "outputs": [
    {
     "name": "stdout",
     "output_type": "stream",
     "text": [
      "\n",
      "End process: 2024-05-28 10:27:11\n",
      "Time to finish: 0:03:02\n",
      "\n",
      "\n",
      "*** PROGRAM END ***\n",
      "\n"
     ]
    }
   ],
   "source": [
    "# program end\n",
    "end_time = datetime.now().replace(microsecond=0)\n",
    "delta_time = end_time - start_time\n",
    "\n",
    "print()\n",
    "print(\"End process:\", end_time)\n",
    "print(\"Time to finish:\", delta_time)\n",
    "print()\n",
    "\n",
    "print()\n",
    "print(\"*** PROGRAM END ***\")\n",
    "print()"
   ]
  }
 ],
 "metadata": {
  "kernelspec": {
   "display_name": "Python 3",
   "language": "python",
   "name": "python3"
  },
  "language_info": {
   "codemirror_mode": {
    "name": "ipython",
    "version": 3
   },
   "file_extension": ".py",
   "mimetype": "text/x-python",
   "name": "python",
   "nbconvert_exporter": "python",
   "pygments_lexer": "ipython3",
   "version": "3.12.2"
  }
 },
 "nbformat": 4,
 "nbformat_minor": 2
}
