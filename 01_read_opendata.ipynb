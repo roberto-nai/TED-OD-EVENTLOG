{
 "cells": [
  {
   "cell_type": "code",
   "execution_count": 1,
   "metadata": {},
   "outputs": [],
   "source": [
    "# 01_read_opendata.ipynb\n",
    "# Reads and filters raw Open Data.\n",
    "# CFC: Call For Competition (step 1/2)  \n",
    "# CAN: Contract Award Notices (step 2/2)"
   ]
  },
  {
   "cell_type": "code",
   "execution_count": 2,
   "metadata": {},
   "outputs": [],
   "source": [
    "# Force to reload extrernal modules every new cell execution\n",
    "%reload_ext autoreload\n",
    "%autoreload 2"
   ]
  },
  {
   "cell_type": "code",
   "execution_count": 2,
   "metadata": {},
   "outputs": [],
   "source": [
    "### IMPORT ###\n",
    "from pathlib import Path\n",
    "import csv\n",
    "from datetime import datetime\n",
    "import pandas as pd"
   ]
  },
  {
   "cell_type": "code",
   "execution_count": 4,
   "metadata": {},
   "outputs": [],
   "source": [
    "### LOCAL IMPORT ###\n",
    "from config import config_reader\n",
    "from utilities import list_files_by_type, read_csv_data, data_schema"
   ]
  },
  {
   "cell_type": "code",
   "execution_count": 5,
   "metadata": {},
   "outputs": [],
   "source": [
    "### GLOBALS ###\n",
    "yaml_config = config_reader.config_read_yaml(\"config.yml\", \"config\")\n",
    "# print(yaml_config) # debug\n",
    "od_dir = str(yaml_config[\"OD_DIR\"])\n",
    "data_dir = str(yaml_config[\"DATA_DIR\"])\n",
    "ted_cfc_file = str(yaml_config[\"TED_CFC_FILE\"])\n",
    "ted_can_file = str(yaml_config[\"TED_CAN_FILE\"])\n",
    "ted_cfc_schema_file = str(yaml_config[\"TED_CFC_SCHEMA_FILE\"])\n",
    "ted_can_schema_file = str(yaml_config[\"TED_CAN_SCHEMA_FILE\"])\n",
    "ted_country_codes_feature = str(yaml_config[\"COUNTRY_CODES_FEATURE\"])\n",
    "ted_country_codes_values = list(yaml_config[\"COUNTRY_CODES_VALUES\"])\n",
    "ted_cae_codes_feature = str(yaml_config[\"CA_CODES_FEATURE\"])\n",
    "ted_cae_codes_values = list(yaml_config[\"CA_CODES_VALUES\"])"
   ]
  },
  {
   "cell_type": "code",
   "execution_count": 6,
   "metadata": {},
   "outputs": [
    {
     "name": "stdout",
     "output_type": "stream",
     "text": [
      "\n",
      "*** PROGRAM START ***\n",
      "\n",
      "Start process: 2024-05-06 22:53:19\n",
      "\n"
     ]
    }
   ],
   "source": [
    "### MAIN ###\n",
    "print()\n",
    "print(\"*** PROGRAM START ***\")\n",
    "print()\n",
    "\n",
    "start_time = datetime.now().replace(microsecond=0)\n",
    "print(\"Start process: \" + str(start_time))\n",
    "print()"
   ]
  },
  {
   "cell_type": "code",
   "execution_count": 7,
   "metadata": {},
   "outputs": [
    {
     "name": "stdout",
     "output_type": "stream",
     "text": [
      ">> Reading OD files\n",
      "Directory: opendata\n",
      "Files found: 6\n",
      "\n",
      ">> Filters\n",
      "Feature name: ISO_COUNTRY_CODE\n",
      "Feature values: ['ES', 'IT', 'FR']\n",
      "\n"
     ]
    }
   ],
   "source": [
    "# Create list of CSV files\n",
    "print(\">> Listing OD files\")\n",
    "print(\"Directory:\", od_dir)\n",
    "list_csv_files = list_files_by_type(od_dir, \"csv\")\n",
    "list_csv_files_len = len(list_csv_files)\n",
    "print(\"Files found:\", list_csv_files_len)\n",
    "# print(\"Files:\", list_csv_files) # debug\n",
    "print()\n",
    "\n",
    "print(\">> Filters\")\n",
    "print(\"Feature name:\", ted_country_codes_feature)\n",
    "print(\"Feature values:\", ted_country_codes_values)\n",
    "print()"
   ]
  },
  {
   "cell_type": "code",
   "execution_count": 8,
   "metadata": {},
   "outputs": [
    {
     "name": "stdout",
     "output_type": "stream",
     "text": [
      ">> Parsing OD files\n",
      "[1 / 6]\n",
      "Reading CAN file: Export_OpenDataCAN_year2020.csv\n",
      "Dataframe length (complete): 1070272\n",
      "Dataframe length (filtered): 71326\n",
      "[2 / 6]\n",
      "Reading CAN file: Export_OpenDataCAN_year2021.csv\n",
      "Dataframe length (complete): 1162663\n",
      "Dataframe length (filtered): 88128\n",
      "[3 / 6]\n",
      "Reading CAN file: Export_OpenDataCAN_year2022.csv\n",
      "Dataframe length (complete): 1071826\n",
      "Dataframe length (filtered): 92823\n",
      "[4 / 6]\n",
      "Reading CFC file: Export_OpenDataCFC_year2020.csv\n",
      "Dataframe length (complete): 1250856\n",
      "Dataframe length (filtered): 104709\n",
      "[5 / 6]\n",
      "Reading CFC file: Export_OpenDataCFC_year2021.csv\n",
      "Dataframe length (complete): 1242338\n",
      "Dataframe length (filtered): 103501\n",
      "[6 / 6]\n",
      "Reading CFC file: Export_OpenDataCFC_year2022.csv\n",
      "Dataframe length (complete): 1067540\n",
      "Dataframe length (filtered): 90561\n",
      "\n"
     ]
    }
   ],
   "source": [
    "# Reads raw data and merge the DataFrames (# CFC.FUTURE_CAN_ID = CNC.ID_NOTICE_CAN) filtering it\n",
    "print(\">> Parsing OD files\")\n",
    "dic_types_cfc = {'ID_NOTICE_CN':object, 'FUTURE_CAN_ID':object, 'FUTURE_CAN_ID_ESTIMATED':object, 'CPV':object, 'CAE_TYPE':object} # Columns not to be transformed into numbers\n",
    "dic_types_can = {'ID_NOTICE_CAN':object, 'ID_AWARD':object, 'ID_LOT_AWARDED':object, 'CPV':object, 'CAE_TYPE': object} # Columns not to be transformed into numbers\n",
    "list_cfc = []\n",
    "list_can = []\n",
    "i = 0\n",
    "for csv_file in list_csv_files:\n",
    "    i+=1\n",
    "    print(f\"[{i} / {list_csv_files_len}]\")\n",
    "    if \"CFC\" in csv_file.name:\n",
    "        print(\"Reading CFC file:\", csv_file.name)\n",
    "        df = read_csv_data(csv_file, dic_types_cfc)\n",
    "        df_len = len(df)\n",
    "        # filters\n",
    "        df_filtered = df[df[ted_country_codes_feature].isin(ted_country_codes_values) & df[ted_cae_codes_feature].isin(ted_cae_codes_values)]\n",
    "        df_filtered_len = len(df_filtered)\n",
    "        print(\"Dataframe length (complete):\", df_len)\n",
    "        print(\"Dataframe length (filtered):\", df_filtered_len)\n",
    "        list_cfc.append(df_filtered)\n",
    "    if \"CAN\" in csv_file.name:\n",
    "        print(\"Reading CAN file:\", csv_file.name)\n",
    "        df = read_csv_data(csv_file, dic_types_can)\n",
    "        df_len = len(df)\n",
    "        # filters\n",
    "        df_filtered = df[df[ted_country_codes_feature].isin(ted_country_codes_values) & df[ted_cae_codes_feature].isin(ted_cae_codes_values)]\n",
    "        df_filtered_len = len(df_filtered)\n",
    "        print(\"Dataframe length (complete):\", df_len)\n",
    "        print(\"Dataframe length (filtered):\", df_filtered_len)\n",
    "        list_can.append(df_filtered)\n",
    "print()"
   ]
  },
  {
   "cell_type": "code",
   "execution_count": 9,
   "metadata": {},
   "outputs": [
    {
     "name": "stdout",
     "output_type": "stream",
     "text": [
      ">> Preparing output\n",
      "\n",
      "> Creating CFC file\n",
      "Final CFC length: 298771\n",
      "Data saved to: data/TED_CFC_2020-2022.csv\n",
      "Schema saved to: data/TED_CFC_schema.csv\n",
      "\n",
      "> Creating CAN file\n",
      "Final CAN length: 252277\n",
      "Data saved to: data/TED_CAN_2020-2022.csv\n",
      "Schema saved to: data/TED_CAN_schema.csv\n",
      "\n"
     ]
    }
   ],
   "source": [
    "# Output the data merged and filtered\n",
    "\n",
    "print(\">> Preparing output\")\n",
    "out_dir = Path(data_dir)\n",
    "out_dir.mkdir(exist_ok=True)\n",
    "print()\n",
    "\n",
    "print(\"> Creating CFC file\")\n",
    "# Merges all dataframes in the list and saves to file\n",
    "df_cfc = pd.concat(list_cfc, ignore_index=True)\n",
    "df_cfc_len = len(df_cfc)\n",
    "print(\"Final CFC length:\", df_cfc_len)\n",
    "path_out = Path(data_dir) / ted_cfc_file\n",
    "df_cfc.to_csv(path_out, sep=\";\", index=False, quoting=csv.QUOTE_NONNUMERIC)\n",
    "print(\"Data saved to:\", str(path_out)) \n",
    "# Get the  schema\n",
    "df_cfc_schema = data_schema(df_cfc)\n",
    "path_out = Path(data_dir) / ted_cfc_schema_file\n",
    "df_cfc_schema.to_csv(path_out, sep=\";\", index=False)\n",
    "print(\"Schema saved to:\", str(path_out)) \n",
    "print()\n",
    "\n",
    "print(\"> Creating CAN file\")\n",
    "# Merges all dataframes in the list and saves to file\n",
    "df_can = pd.concat(list_can, ignore_index=True)\n",
    "df_can_len = len(df_can)\n",
    "print(\"Final CAN length:\", df_can_len)\n",
    "path_out = Path(data_dir) / ted_can_file\n",
    "df_can.to_csv(path_out, sep=\";\", index=False, quoting=csv.QUOTE_NONNUMERIC)\n",
    "print(\"Data saved to:\", str(path_out))\n",
    "# Get the  schema\n",
    "df_can_schema = data_schema(df_can)\n",
    "path_out = Path(data_dir) / ted_can_schema_file\n",
    "df_can_schema.to_csv(path_out, sep=\";\", index=False)\n",
    "print(\"Schema saved to:\", str(path_out)) \n",
    "print()"
   ]
  },
  {
   "cell_type": "code",
   "execution_count": 10,
   "metadata": {},
   "outputs": [
    {
     "name": "stdout",
     "output_type": "stream",
     "text": [
      "\n",
      "End process: 2024-05-06 22:54:47\n",
      "Time to finish: 0:01:28\n",
      "\n",
      "\n",
      "*** PROGRAM END ***\n",
      "\n"
     ]
    }
   ],
   "source": [
    "end_time = datetime.now().replace(microsecond=0)\n",
    "delta_time = end_time - start_time\n",
    "\n",
    "print()\n",
    "print(\"End process:\", end_time)\n",
    "print(\"Time to finish:\", delta_time)\n",
    "print()\n",
    "\n",
    "print()\n",
    "print(\"*** PROGRAM END ***\")\n",
    "print()"
   ]
  }
 ],
 "metadata": {
  "kernelspec": {
   "display_name": "Python 3",
   "language": "python",
   "name": "python3"
  },
  "language_info": {
   "codemirror_mode": {
    "name": "ipython",
    "version": 3
   },
   "file_extension": ".py",
   "mimetype": "text/x-python",
   "name": "python",
   "nbconvert_exporter": "python",
   "pygments_lexer": "ipython3",
   "version": "3.12.2"
  }
 },
 "nbformat": 4,
 "nbformat_minor": 2
}
